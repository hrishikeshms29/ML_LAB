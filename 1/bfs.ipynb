{
 "cells": [
  {
   "cell_type": "code",
   "execution_count": 1,
   "id": "0c5fd025-0dbc-40ea-b52b-aeadc04acf1d",
   "metadata": {},
   "outputs": [
    {
     "name": "stdout",
     "output_type": "stream",
     "text": [
      "Best First Search Path: ['A', 'D', 'G']\n"
     ]
    }
   ],
   "source": [
    "import heapq\n",
    "\n",
    "def best_first_search(graph, start, goal, heuristic):\n",
    "    priority_queue = [(heuristic[start], start)]\n",
    "    visited = set()\n",
    "    parent = {start: None}\n",
    "\n",
    "    while priority_queue:\n",
    "        _, current_node = heapq.heappop(priority_queue)\n",
    "\n",
    "        if current_node in visited:\n",
    "            continue\n",
    "\n",
    "        visited.add(current_node)\n",
    "\n",
    "        if current_node == goal:\n",
    "            break\n",
    "\n",
    "        for neighbor in graph[current_node]:\n",
    "            if neighbor not in visited:\n",
    "                heapq.heappush(priority_queue, (heuristic[neighbor], neighbor))\n",
    "                parent[neighbor] = current_node\n",
    "\n",
    "    path = []\n",
    "    node = goal\n",
    "    while node is not None:\n",
    "        path.append(node)\n",
    "        node = parent[node]\n",
    "    path.reverse()\n",
    "\n",
    "    return path\n",
    "\n",
    "# New example graph\n",
    "graph = {\n",
    "    'A': ['B', 'D'],\n",
    "    'B': ['E', 'F'],\n",
    "    'C': ['G'],\n",
    "    'D': ['C', 'G'],\n",
    "    'E': [],\n",
    "    'F': [],\n",
    "    'G': []\n",
    "}\n",
    "\n",
    "# New heuristic values\n",
    "heuristic = {\n",
    "    'A': 5,\n",
    "    'B': 3,\n",
    "    'C': 2,\n",
    "    'D': 4,\n",
    "    'E': 6,\n",
    "    'F': 5,\n",
    "    'G': 0  # Goal node\n",
    "}\n",
    "\n",
    "start = 'A'\n",
    "goal = 'G'\n",
    "\n",
    "path = best_first_search(graph, start, goal, heuristic)\n",
    "print(\"Best First Search Path:\", path)\n"
   ]
  },
  {
   "cell_type": "code",
   "execution_count": null,
   "id": "2de5e22b-acf0-4e71-b79f-e3e17017d16c",
   "metadata": {},
   "outputs": [],
   "source": []
  }
 ],
 "metadata": {
  "kernelspec": {
   "display_name": "Python 3 (ipykernel)",
   "language": "python",
   "name": "python3"
  },
  "language_info": {
   "codemirror_mode": {
    "name": "ipython",
    "version": 3
   },
   "file_extension": ".py",
   "mimetype": "text/x-python",
   "name": "python",
   "nbconvert_exporter": "python",
   "pygments_lexer": "ipython3",
   "version": "3.12.1"
  }
 },
 "nbformat": 4,
 "nbformat_minor": 5
}
